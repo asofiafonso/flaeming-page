{
 "cells": [
  {
   "cell_type": "code",
   "execution_count": 13,
   "metadata": {},
   "outputs": [],
   "source": [
    "import matplotlib.pyplot as mpl\n",
    "import matplotlib.font_manager\n",
    "\n",
    "import numpy as np\n",
    "\n",
    "rng = np.random.default_rng(1)"
   ]
  },
  {
   "cell_type": "code",
   "execution_count": 35,
   "metadata": {},
   "outputs": [],
   "source": [
    "def gaussian(x, mu, std):\n",
    "    return np.exp( - (x-mu)**2 / (2*std**2/4))\n",
    "\n",
    "def half_gaussian(x, mu, std):\n",
    "    results = np.zeros_like(x)\n",
    "    results[x<mu] = np.exp( - (x[x<mu]-mu)**2 / (2*std**2/4))\n",
    "    results[x>=mu] = np.exp( - (x[x>=mu]-mu)**2 / (2*std**2))\n",
    "    return results\n",
    "\n",
    "def gaussian_2d(mu, std):\n",
    "    x, y = np.meshgrid(np.linspace(0,1,50), np.linspace(0,1,50))\n",
    "    d = np.sqrt((x-mu)**2+(y-mu)**2)\n",
    "    g = 50 * np.exp(-( d/ ( 2.0 * std**2 ) ) )\n",
    "    return rng.poisson(g)\n"
   ]
  },
  {
   "cell_type": "code",
   "execution_count": 71,
   "metadata": {},
   "outputs": [
    {
     "data": {
      "image/png": "[encoded data removed]",
      "text/plain": [
       "<Figure size 600x200 with 1 Axes>"
      ]
     },
     "metadata": {},
     "output_type": "display_data"
    }
   ],
   "source": [
    "bg_color = \"black\"\n",
    "fg_color = \"#fd971f\"\n",
    "fig, ax = mpl.subplots(figsize=(6,2))\n",
    "\n",
    "t_start = 0.075\n",
    "\n",
    "# with mpl.xkcd():\n",
    "ax.text(t_start,0.5, \"FL\", weight=\"bold\",color = fg_color, fontsize=50,va=\"center\")\n",
    "ax.text(t_start+0.3,0.5, \"EMING\", weight=\"bold\",color = fg_color, fontsize=50, va=\"center\")\n",
    "\n",
    "l = np.linspace(0,1,1000)\n",
    "l_start = 0.3\n",
    "g_line = half_gaussian(l,t_start+ 0.25 ,0.02)/2 + l_start \n",
    "ax.plot(l, g_line, color = fg_color)\n",
    "ax.fill_between(l, l_start, g_line, color=fg_color, alpha=0.3)\n",
    "\n",
    "for i in range(3):\n",
    "    mu = 0.5\n",
    "    g = gaussian_2d(mu, 0.1).astype(np.float32)\n",
    "    g = np.ma.masked_less_equal(g , 0.0001*np.amax(g))\n",
    "\n",
    "    xc = rng.uniform(0.1,0.9)\n",
    "    yc = rng.uniform(0.05,0.3)\n",
    "    yc2 = rng.uniform(0.7,0.95)\n",
    "\n",
    "    w = 0.2\n",
    "    ax.imshow(g, extent=(xc-w,xc+w,yc-w,yc+w), cmap=\"gray\", vmax=0.5*np.amax(g), aspect=\"auto\")\n",
    "    ax.imshow(g, extent=(xc-w,xc+w,yc2-w,yc2+w), cmap=\"gray\", vmax=0.5*np.amax(g), aspect=\"auto\")\n",
    "\n",
    "ax.set_xlim(0,1)\n",
    "ax.set_ylim(0,1)\n",
    "for side in [\"left\",\"right\",\"top\",\"bottom\"]:\n",
    "    ax.spines[side].set_visible(False)\n",
    "ax.grid(False)\n",
    "ax.set_facecolor(bg_color)\n",
    "ax.tick_params(which=\"both\", left=False, bottom=False, labelleft=False, labelbottom =False)\n",
    "fig.set_facecolor(bg_color)"
   ]
  },
  {
   "cell_type": "code",
   "execution_count": null,
   "metadata": {},
   "outputs": [],
   "source": []
  }
 ],
 "metadata": {
  "kernelspec": {
   "display_name": "base",
   "language": "python",
   "name": "python3"
  },
  "language_info": {
   "codemirror_mode": {
    "name": "ipython",
    "version": 3
   },
   "file_extension": ".py",
   "mimetype": "text/x-python",
   "name": "python",
   "nbconvert_exporter": "python",
   "pygments_lexer": "ipython3",
   "version": "3.10.8"
  },
  "orig_nbformat": 4
 },
 "nbformat": 4,
 "nbformat_minor": 2
}
