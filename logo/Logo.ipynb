{
 "cells": [
  {
   "cell_type": "code",
   "execution_count": 1,
   "metadata": {},
   "outputs": [],
   "source": [
    "import matplotlib.pyplot as mpl\n",
    "import matplotlib.font_manager\n",
    "from matplotlib.patches import Circle\n",
    "\n",
    "import numpy as np\n",
    "\n",
    "rng = np.random.default_rng(1)"
   ]
  },
  {
   "cell_type": "code",
   "execution_count": 17,
   "metadata": {},
   "outputs": [],
   "source": [
    "def gaussian(x, mu, std):\n",
    "    return np.exp( - (x-mu)**2 / (2*std**2/4))\n",
    "\n",
    "def half_gaussian(x, mu, std):\n",
    "    results = np.zeros_like(x)\n",
    "    results[x<mu] = np.exp( - (x[x<mu]-mu)**2 / (2*std**2/4))\n",
    "    results[x>=mu] = np.exp( - (x[x>=mu]-mu)**2 / (2*std**2))\n",
    "    return results\n",
    "\n",
    "def gaussian_2d(mu, std):\n",
    "    x, y = np.meshgrid(np.linspace(0,1,50), np.linspace(0,1,50))\n",
    "    d = np.sqrt((x-mu)**2+(y-mu)**2/(5))\n",
    "    g = 100 * np.exp(-( d/ ( 2.0 * std**2 ) ) )\n",
    "    return rng.poisson(g)\n"
   ]
  },
  {
   "cell_type": "code",
   "execution_count": 26,
   "metadata": {},
   "outputs": [
    {
     "data": {
      "image/png": "[encoded data removed]",
      "text/plain": [
       "<Figure size 432x144 with 1 Axes>"
      ]
     },
     "metadata": {},
     "output_type": "display_data"
    },
    {
     "data": {
      "image/png": "[encoded data removed]",
      "text/plain": [
       "<Figure size 432x144 with 1 Axes>"
      ]
     },
     "metadata": {},
     "output_type": "display_data"
    }
   ],
   "source": [
    "bg_color = \"black\"\n",
    "fg_color = \"#fd971f\"\n",
    "fig, ax = mpl.subplots(figsize=(6,2))\n",
    "fig_w, ax_w  = mpl.subplots(figsize=(6,2))\n",
    "\n",
    "n = 4\n",
    "x_pos = np.linspace(0,1,n+1)\n",
    "for i in range(n):\n",
    "    mu = 0.5\n",
    "    g = gaussian_2d(mu, 0.08).astype(np.float32)\n",
    "    g = np.ma.masked_less_equal(g , 0.0001*np.amax(g))\n",
    "\n",
    "    xc = x_pos[i] + 0.1\n",
    "    yc = rng.uniform(0.05,0.2)\n",
    "    yc2 = rng.uniform(0.8,0.95)\n",
    "\n",
    "    w = 0.2\n",
    "    ax.imshow(g, extent=(xc-w,xc+w,yc-w,yc+w), cmap=\"gray\", vmax=0.5*np.amax(g), aspect=\"auto\")\n",
    "    ax.imshow(g, extent=(xc-w,xc+w,yc2-w,yc2+w), cmap=\"gray\", vmax=0.5*np.amax(g), aspect=\"auto\")\n",
    "    ax_w.imshow(g, extent=(xc-w,xc+w,yc-w,yc+w), cmap=\"gray_r\", vmax=0.5*np.amax(g), aspect=\"auto\")\n",
    "    ax_w.imshow(g, extent=(xc-w,xc+w,yc2-w,yc2+w), cmap=\"gray_r\", vmax=0.5*np.amax(g), aspect=\"auto\")\n",
    "\n",
    "\n",
    "t_start = 0.075\n",
    "# with mpl.xkcd():\n",
    "for eixo in [ax, ax_w]:\n",
    "    eixo.text(t_start,0.5, \"FL\", weight=\"bold\",color = fg_color, fontsize=50,va=\"center\")\n",
    "    eixo.text(t_start+0.3,0.5, \"EMING\", weight=\"bold\",color = fg_color, fontsize=50, va=\"center\")\n",
    "\n",
    "    l = np.linspace(0,1,1000)\n",
    "    l_start = 0.3\n",
    "    g_line = half_gaussian(l,t_start+ 0.25 ,0.02)/2 + l_start \n",
    "    eixo.plot(l, g_line, color = fg_color)\n",
    "    eixo.fill_between(l, l_start-0.01, g_line, color=fg_color, alpha=0.3, lw=0)\n",
    "\n",
    "\n",
    "    eixo.set_xlim(0,1)\n",
    "    eixo.set_ylim(0,1)\n",
    "    for side in [\"left\",\"right\",\"top\",\"bottom\"]:\n",
    "        eixo.spines[side].set_visible(False)\n",
    "    eixo.grid(False)\n",
    "    eixo.tick_params(which=\"both\", left=False, bottom=False, labelleft=False, labelbottom =False)\n",
    "\n",
    "ax.set_facecolor(bg_color)\n",
    "fig.set_facecolor(bg_color)\n",
    "\n",
    "fig.savefig(\"../assets/logo.png\")\n",
    "fig_w.savefig(\"../assets/logo_white.png\")"
   ]
  },
  {
   "cell_type": "code",
   "execution_count": 25,
   "metadata": {},
   "outputs": [
    {
     "data": {
      "image/png": "[encoded data removed]",
      "text/plain": [
       "<Figure size 288x288 with 1 Axes>"
      ]
     },
     "metadata": {},
     "output_type": "display_data"
    }
   ],
   "source": [
    "bg_color = \"black\"\n",
    "fg_color = \"#fd971f\"\n",
    "fig, ax = mpl.subplots(figsize=(4,4))\n",
    "\n",
    "xc = 0.5 \n",
    "crad = 0.4\n",
    "\n",
    "ax.add_artist(\n",
    "    Circle((xc,0.5), radius = crad, lw=10, fill=True, facecolor=bg_color, edgecolor=fg_color)\n",
    ")\n",
    "\n",
    "l = np.linspace(0.17,0.82,1000)\n",
    "l_start = 0.3\n",
    "\n",
    "c_line = np.sqrt((l-xc)**2+crad**2) - l_start\n",
    "g_line = half_gaussian(l,t_start+ 0.4 ,0.1)/2 + l_start \n",
    "ax.plot(l, g_line, color = fg_color, lw=10)\n",
    "ax.fill_between(l, c_line, g_line, color=fg_color, lw=0, alpha=0.2, zorder=10)\n",
    "\n",
    "ax.set_xlim(0,1)\n",
    "ax.set_ylim(0,1)\n",
    "for side in [\"left\",\"right\",\"top\",\"bottom\"]:\n",
    "    ax.spines[side].set_visible(False)\n",
    "ax.grid(False)\n",
    "ax.tick_params(which=\"both\", left=False, bottom=False, labelleft=False, labelbottom =False)\n",
    "\n",
    "\n",
    "ax.patch.set_alpha(0.0)\n",
    "# fig.set_facecolor(None)\n",
    "\n",
    "fig.savefig(\"../assets/icon.png\", dpi=100)"
   ]
  },
  {
   "cell_type": "code",
   "execution_count": null,
   "metadata": {},
   "outputs": [],
   "source": []
  }
 ],
 "metadata": {
  "kernelspec": {
   "display_name": "base",
   "language": "python",
   "name": "python3"
  },
  "language_info": {
   "codemirror_mode": {
    "name": "ipython",
    "version": 3
   },
   "file_extension": ".py",
   "mimetype": "text/x-python",
   "name": "python",
   "nbconvert_exporter": "python",
   "pygments_lexer": "ipython3",
   "version": "3.9.7"
  },
  "orig_nbformat": 4
 },
 "nbformat": 4,
 "nbformat_minor": 2
}
